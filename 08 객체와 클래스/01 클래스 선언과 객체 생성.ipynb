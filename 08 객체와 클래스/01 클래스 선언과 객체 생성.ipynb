{
 "cells": [
  {
   "cell_type": "code",
   "execution_count": null,
   "metadata": {},
   "outputs": [],
   "source": [
    "### 객체는 물체\n",
    "### 클래스는 반\n",
    "### 파일 안에서만 도는개 객체\n",
    "### 클래스는 다른 파일에서도 가져올수있음"
   ]
  },
  {
   "cell_type": "markdown",
   "metadata": {},
   "source": [
    "### 클래스 선언"
   ]
  },
  {
   "cell_type": "markdown",
   "metadata": {},
   "source": [
    "#### class 안에 함수가 들어오면 self가 무조건 들어온다\n",
    "def 함수1(self[, 인자 . 인자1 , 인자2]):"
   ]
  },
  {
   "cell_type": "code",
   "execution_count": 2,
   "metadata": {},
   "outputs": [],
   "source": [
    "class Bicycle():              # 클래스 생성\n",
    "    \n",
    "    pass                     "
   ]
  },
  {
   "cell_type": "code",
   "execution_count": 3,
   "metadata": {},
   "outputs": [],
   "source": [
    "my_bicycle = Bicycle()        # 객체 생성"
   ]
  },
  {
   "cell_type": "code",
   "execution_count": 5,
   "metadata": {},
   "outputs": [
    {
     "data": {
      "text/plain": [
       "<__main__.Bicycle at 0x280ca3bec70>"
      ]
     },
     "execution_count": 5,
     "metadata": {},
     "output_type": "execute_result"
    }
   ],
   "source": [
    "my_bicycle"
   ]
  },
  {
   "cell_type": "code",
   "execution_count": 8,
   "metadata": {},
   "outputs": [],
   "source": [
    "my_bicycle.wheel_size = 26    # 변수 생성\n",
    "my_bicycle.color = 'black'"
   ]
  },
  {
   "cell_type": "code",
   "execution_count": 9,
   "metadata": {},
   "outputs": [
    {
     "name": "stdout",
     "output_type": "stream",
     "text": [
      "바퀴 크기 :  26\n",
      "색상 :  black\n"
     ]
    }
   ],
   "source": [
    "print(\"바퀴 크기 : \", my_bicycle.wheel_size)   # 출력\n",
    "print(\"색상 : \", my_bicycle.color)      "
   ]
  },
  {
   "cell_type": "code",
   "execution_count": 16,
   "metadata": {},
   "outputs": [],
   "source": [
    "class Bicycle():\n",
    "    def move(self, speed):\n",
    "        print(f'자전거  : 시속{speed} km 전진 ')\n",
    "        \n",
    "    def turn(self, direction):\n",
    "        print(f'자전거  : {direction} 회전 ')\n",
    "        \n",
    "    def stop(self):\n",
    "        print(f'자전거({self.wheel_size}, {self.color}): 정지 ')"
   ]
  },
  {
   "cell_type": "code",
   "execution_count": 17,
   "metadata": {},
   "outputs": [
    {
     "name": "stdout",
     "output_type": "stream",
     "text": [
      "자전거  : 시속30 km 전진 \n",
      "자전거  : 좌 회전 \n",
      "자전거(26, black): 정지 \n"
     ]
    }
   ],
   "source": [
    "my_bicycle = Bicycle()\n",
    "\n",
    "my_bicycle.wheel_size = 26    # 변수 생성\n",
    "my_bicycle.color = 'black'\n",
    "\n",
    "my_bicycle.move(30)\n",
    "my_bicycle.turn(\"좌\")\n",
    "my_bicycle.stop()\n"
   ]
  },
  {
   "cell_type": "code",
   "execution_count": 20,
   "metadata": {},
   "outputs": [
    {
     "name": "stdout",
     "output_type": "stream",
     "text": [
      "자전거  : 시속20 km 전진 \n",
      "자전거  : 좌 회전 \n",
      "자전거(26, red): 정지 \n"
     ]
    }
   ],
   "source": [
    "my_bicycle1 = Bicycle()\n",
    "\n",
    "my_bicycle1.wheel_size = 26   # 변수 생성\n",
    "my_bicycle1.color = 'red'\n",
    "\n",
    "my_bicycle1.move(20)\n",
    "my_bicycle1.turn(\"좌\")\n",
    "my_bicycle1.stop()"
   ]
  },
  {
   "cell_type": "code",
   "execution_count": 18,
   "metadata": {},
   "outputs": [
    {
     "name": "stdout",
     "output_type": "stream",
     "text": [
      "자전거  : 시속15 km 전진 \n",
      "자전거  : 우 회전 \n",
      "자전거(24, blue): 정지 \n"
     ]
    }
   ],
   "source": [
    "my_bicycle2 = Bicycle()\n",
    "\n",
    "my_bicycle2.wheel_size = 24    # 변수 생성\n",
    "my_bicycle2.color = 'blue'\n",
    "\n",
    "my_bicycle2.move(15)\n",
    "my_bicycle2.turn(\"우\")\n",
    "my_bicycle2.stop()\n"
   ]
  },
  {
   "cell_type": "code",
   "execution_count": 21,
   "metadata": {},
   "outputs": [],
   "source": [
    "class Bicycle():\n",
    "    \n",
    "    def __init__(self, wheel_size, color):\n",
    "        self.wheel_size = wheel_size\n",
    "        self.color = color\n",
    "        \n",
    "    def move(self, speed):\n",
    "        print(f'자전거  : 시속{speed} km 전진 ')\n",
    "        \n",
    "    def turn(self, direction):\n",
    "        print(f'자전거  : {direction} 회전 ')\n",
    "        \n",
    "    def stop(self):\n",
    "        print(f'자전거({self.wheel_size}, {self.color}): 정지 ')"
   ]
  },
  {
   "cell_type": "code",
   "execution_count": 22,
   "metadata": {},
   "outputs": [
    {
     "name": "stdout",
     "output_type": "stream",
     "text": [
      "자전거  : 시속30 km 전진 \n",
      "자전거  : 좌 회전 \n",
      "자전거(26, black): 정지 \n"
     ]
    }
   ],
   "source": [
    "my_bicycle = Bicycle(26, 'black')\n",
    "\n",
    "my_bicycle.move(30)\n",
    "my_bicycle.turn(\"좌\")\n",
    "my_bicycle.stop()"
   ]
  },
  {
   "cell_type": "code",
   "execution_count": null,
   "metadata": {},
   "outputs": [],
   "source": []
  }
 ],
 "metadata": {
  "kernelspec": {
   "display_name": "Python 3",
   "language": "python",
   "name": "python3"
  },
  "language_info": {
   "codemirror_mode": {
    "name": "ipython",
    "version": 3
   },
   "file_extension": ".py",
   "mimetype": "text/x-python",
   "name": "python",
   "nbconvert_exporter": "python",
   "pygments_lexer": "ipython3",
   "version": "3.8.3"
  }
 },
 "nbformat": 4,
 "nbformat_minor": 4
}
