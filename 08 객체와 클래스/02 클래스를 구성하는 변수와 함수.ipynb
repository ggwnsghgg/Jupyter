{
 "cells": [
  {
   "cell_type": "markdown",
   "metadata": {},
   "source": [
    "### 클래스에서 사용하는 변수"
   ]
  },
  {
   "cell_type": "code",
   "execution_count": 5,
   "metadata": {},
   "outputs": [],
   "source": [
    "class Car():\n",
    "    instance_count = 0  # 클래스 변수 생성 및 초기화\n",
    "    \n",
    "    def __init__(self, size, color):\n",
    "        self.size = size          # 인스턴스 변수 생성 및 초기화\n",
    "        self.color = color        # 인스턴ㅅ 변수 생성 및 초기화\n",
    "        Car.instance_count = Car.instance_count + 1  # 클래스 변수 이용\n",
    "        print(f\"자동차 객체의 수 : {Car.instance_count}\")\n",
    "        \n",
    "    def move(self):\n",
    "        print(f\"자동차{self.size} & {self.color}가 움직입니다.\")"
   ]
  },
  {
   "cell_type": "code",
   "execution_count": null,
   "metadata": {},
   "outputs": [],
   "source": [
    "car1 = Car('small', 'white')\n",
    "car2 = Car('big', 'black')"
   ]
  },
  {
   "cell_type": "code",
   "execution_count": null,
   "metadata": {},
   "outputs": [],
   "source": [
    "print(f\"Car 클래스의 총 인스턴스 개수 : {Car.instance_count}\")"
   ]
  },
  {
   "cell_type": "code",
   "execution_count": null,
   "metadata": {},
   "outputs": [],
   "source": [
    "print(f\"Car 클래스의 총 인스턴스 개수 : {car1.instance_count}\")\n",
    "print(f\"Car 클래스의 총 인스턴스 개수 : {car2.instance_count}\")"
   ]
  },
  {
   "cell_type": "code",
   "execution_count": null,
   "metadata": {},
   "outputs": [],
   "source": [
    "car1.move()\n",
    "car2.move()"
   ]
  },
  {
   "cell_type": "code",
   "execution_count": 8,
   "metadata": {},
   "outputs": [],
   "source": [
    "class Car2():\n",
    "    count = 0  # 클래스 변수 생성 및 초기화\n",
    "    \n",
    "    def __init__(self, size, num):\n",
    "        self.size = size      # car2.size = big###f):\n",
    "        print(f\"자동차{self.size} & {self.color}가 움직입니다.\")"
   ]
  },
  {
   "cell_type": "code",
   "execution_count": 9,
   "metadata": {},
   "outputs": [
    {
     "name": "stdout",
     "output_type": "stream",
     "text": [
      "자동차 객체의 수 : 1\n",
      "인스턴스 변수 초기화 : self.count = 20\n",
      "자동차 객체의 수 : 2\n",
      "인스턴스 변수 초기화 : self.count = 30\n"
     ]
    }
   ],
   "source": [
    "car1 = Car2(\"big\",20)\n",
    "car1 = Car2(\"small\",30)"
   ]
  },
  {
   "cell_type": "markdown",
   "metadata": {},
   "source": [
    "#### 클래스에서 이용하는 함수"
   ]
  },
  {
   "cell_type": "code",
   "execution_count": 39,
   "metadata": {},
   "outputs": [],
   "source": [
    "class Car():\n",
    "    instance_count = 0  # 클래스 변수 생성 및 초기화\n",
    "    \n",
    "    #초기화 함수\n",
    "    def __init__(self, size, color):\n",
    "        self.size = size          # 인스턴스 변수 생성 및 초기화\n",
    "        self.color = color        # 인스턴스 변수 생성 및 초기화\n",
    "        Car.instance_count = Car.instance_count + 1  # 클래스 변수 이용\n",
    "        print(f\"자동차 객체의 수 : {Car.instance_count}\")\n",
    "        \n",
    "        \n",
    "    # 인스턴스 메소드\n",
    "    def move(self, speed):\n",
    "        self.speed = speed\n",
    "        print(f\"자동차 ({self.size} & {self.color}) 가\", end =' ')\n",
    "        print(f\"시속 {self.speed} km로 전진\")\n",
    "        \n",
    "            \n",
    "    def auto_cruise(self):\n",
    "        print(\"자율 주행 모드\")          # 인스턴스 변수 생성 및 초기화\n",
    "        self.move(self.speed) \n",
    "        "
   ]
  },
  {
   "cell_type": "code",
   "execution_count": 40,
   "metadata": {},
   "outputs": [
    {
     "name": "stdout",
     "output_type": "stream",
     "text": [
      "자동차 객체의 수 : 1\n",
      "자동차 객체의 수 : 2\n",
      "자동차 (small & red) 가 시속 80 km로 전진\n",
      "자동차 (big & green) 가 시속 90 km로 전진\n",
      "자율 주행 모드\n",
      "자동차 (small & red) 가 시속 80 km로 전진\n",
      "자율 주행 모드\n",
      "자동차 (big & green) 가 시속 90 km로 전진\n"
     ]
    }
   ],
   "source": [
    "car1 = Car(\"small\",\"red\")  # 객체 생성 (car1)\n",
    "car2 = Car(\"big\", \"green\")  # 객체 생성 (car 2)\n",
    "\n",
    "car1.move(80)  # 객체 (car1)의 move() 메소드 호출\n",
    "car2.move(90)  # 객체 (car2)의 move() 메소드 호출\n",
    "\n",
    "\n",
    "car1.auto_cruise() # 객체 (car1)의 auto_cruise() 메소드 호출\n",
    "car2.auto_cruise() # 객체 (car2)의 auto_cruise() 메소드 호출"
   ]
  },
  {
   "cell_type": "code",
   "execution_count": 47,
   "metadata": {},
   "outputs": [],
   "source": [
    "class Car():\n",
    "    instance_count = 0  # 클래스 변수 생성 및 초기화\n",
    "    \n",
    "    #초기화 함수\n",
    "    def __init__(self, size, color):\n",
    "        self.size = size          # 인스턴스 변수 생성 및 초기화\n",
    "        self.color = color        # 인스턴스 변수 생성 및 초기화\n",
    "        Car.instance_count = Car.instance_count + 1  # 클래스 변수 이용\n",
    "        print(f\"자동차 객체의 수 : {Car.instance_count}\")\n",
    "        \n",
    "        \n",
    "    # 인스턴스 메소드\n",
    "    def move(self, speed):\n",
    "        self.speed = speed\n",
    "        print(f\"자동차 ({self.size} & {self.color}) 가\", end =' ')\n",
    "        print(f\"시속 {self.speed} km로 전진\")\n",
    "        \n",
    "            \n",
    "    def auto_cruise(self):\n",
    "        print(\"자율 주행 모드\")          # 인스턴스 변수 생성 및 초기화\n",
    "        self.move(self.speed) #move(함수의 인자로 인스턴스 변수를 엽리겨)\n",
    "        \n",
    "    @staticmethod\n",
    "    def check_type(model_code):\n",
    "        if(model_code >= 20):\n",
    "            print(\"이 자동차는 전기차입니다.\")\n",
    "        elif(10 <= model_code < 20):\n",
    "            print(\"이 자동차는 가솔린 차입니다.\")\n",
    "        else:\n",
    "            print(\"이 자동차는 디젤차입니다.\")"
   ]
  },
  {
   "cell_type": "code",
   "execution_count": 48,
   "metadata": {},
   "outputs": [
    {
     "name": "stdout",
     "output_type": "stream",
     "text": [
      "이 자동차는 전기차입니다.\n",
      "이 자동차는 디젤차입니다.\n"
     ]
    }
   ],
   "source": [
    "Car.check_type(25)\n",
    "Car.check_type(2)"
   ]
  },
  {
   "cell_type": "code",
   "execution_count": 50,
   "metadata": {},
   "outputs": [
    {
     "data": {
      "text/plain": [
       "443211"
      ]
     },
     "execution_count": 50,
     "metadata": {},
     "output_type": "execute_result"
    }
   ],
   "source": []
  },
  {
   "cell_type": "code",
   "execution_count": 62,
   "metadata": {},
   "outputs": [
    {
     "name": "stdout",
     "output_type": "stream",
     "text": [
      "10\n"
     ]
    },
    {
     "data": {
      "text/plain": [
       "False"
      ]
     },
     "execution_count": 62,
     "metadata": {},
     "output_type": "execute_result"
    }
   ],
   "source": []
  },
  {
   "cell_type": "markdown",
   "metadata": {},
   "source": [
    "#### 클래스 메소드"
   ]
  },
  {
   "cell_type": "markdown",
   "metadata": {},
   "source": [
    "##### 클래스 diret , 객체 생성 접근이 있다"
   ]
  },
  {
   "cell_type": "code",
   "execution_count": 11,
   "metadata": {},
   "outputs": [],
   "source": [
    "class Car():\n",
    "    instance_count = 0  # 클래스 변수 생성 및 초기화\n",
    "    \n",
    "    #초기화 함수\n",
    "    def __init__(self, size, color):\n",
    "        self.size = size          # 인스턴스 변수 생성 및 초기화\n",
    "        self.color = color        # 인스턴스 변수 생성 및 초기화\n",
    "        Car.instance_count = Car.instance_count + 1  # 클래스 변수 이용\n",
    "        \n",
    "        \n",
    "    # 인스턴스 메소드\n",
    "    def move(self, speed):\n",
    "        self.speed = speed\n",
    "        print(f\"자동차 ({self.size} & {self.color}) 가\", end =' ')\n",
    "        print(f\"시속 {self.speed} km로 전진\")\n",
    "        \n",
    "            \n",
    "    def auto_cruise(self):\n",
    "        print(\"자율 주행 모드\")          # 인스턴스 변수 생성 및 초기화\n",
    "        self.move(self.speed) #move(함수의 인자로 인스턴스 변수를 엽리겨)\n",
    "        \n",
    "    @staticmethod\n",
    "    def check_type(model_code):\n",
    "        if(model_code >= 20):\n",
    "            print(\"이 자동차는 전기차입니다.\")\n",
    "        elif(10 <= model_code < 20):\n",
    "            print(\"이 자동차는 가솔린 차입니다.\")\n",
    "        else:\n",
    "            print(\"이 자동차는 디젤차입니다.\")\n",
    "            \n",
    "            \n",
    "    @classmethod\n",
    "    def count_instance(cls):\n",
    "        print(\"자동차 객체의 개수:{0}\".format(cls.instance_count))"
   ]
  },
  {
   "cell_type": "code",
   "execution_count": 13,
   "metadata": {},
   "outputs": [
    {
     "name": "stdout",
     "output_type": "stream",
     "text": [
      "자동차 객체의 개수:2\n",
      "자동차 객체의 개수:3\n",
      "자동차 객체의 개수:4\n"
     ]
    }
   ],
   "source": [
    "Car.count_instance()       # 클래스 Car 다이렉트 접근하게 되면 __init__를 거치지 않고\n",
    "                           # @classmethod로 동작합니다.\n",
    "\n",
    "car1 = Car(\"small\", \"red\") # 객체 생성 __init__() 함수가 동작하고, @classmethon가 동작됨\n",
    "Car.count_instance()       # @classmethod 가 동작됨\n",
    "\n",
    "car2 = Car(\"big\", \"green\") # 새로운 객체 car2 생성 -> __init__()함수가 동작하고\n",
    "Car.count_instance()       #"
   ]
  },
  {
   "cell_type": "code",
   "execution_count": null,
   "metadata": {},
   "outputs": [],
   "source": []
  }
 ],
 "metadata": {
  "kernelspec": {
   "display_name": "Python 3",
   "language": "python",
   "name": "python3"
  },
  "language_info": {
   "codemirror_mode": {
    "name": "ipython",
    "version": 3
   },
   "file_extension": ".py",
   "mimetype": "text/x-python",
   "name": "python",
   "nbconvert_exporter": "python",
   "pygments_lexer": "ipython3",
   "version": "3.8.3"
  }
 },
 "nbformat": 4,
 "nbformat_minor": 4
}
