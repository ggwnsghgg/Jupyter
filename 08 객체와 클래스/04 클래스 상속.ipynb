{
 "cells": [
  {
   "cell_type": "code",
   "execution_count": 2,
   "metadata": {},
   "outputs": [],
   "source": [
    "\n",
    "## 부모 클래스 \n",
    "\n",
    "class Bicycle():\n",
    "    def __init__(self, wheel_size, color):\n",
    "        self.wheel_size = wheel_size\n",
    "        self.color = color\n",
    "    \n",
    "    def move(self,speed):\n",
    "        print(\"자전거: 시속 {0}킬로미터로 전진\".format(speed))\n",
    "    \n",
    "    def turn(self, direction):\n",
    "        priont(\"자전거: {0}회전\".format(direction))\n",
    "        \n",
    "    def stop(self):\n",
    "        print(\"자전거({0},{1}): 정지\".format(self.wheel_size, self.color))\n",
    "\n"
   ]
  },
  {
   "cell_type": "code",
   "execution_count": 3,
   "metadata": {},
   "outputs": [
    {
     "name": "stdout",
     "output_type": "stream",
     "text": [
      "자전거: 시속 20킬로미터로 전진\n",
      "자전거: 접기, state = folding\n",
      "자전거: 펴기, stae = unfolding\n"
     ]
    }
   ],
   "source": [
    "\n",
    "    ## 자식 클래스\n",
    "\n",
    "\n",
    "    class FoldingBicycle(Bicycle):\n",
    "            def __init__(self, wheel_size, color, state): #init은 태어난거(초기화)라고 보면 된다.\n",
    "                Bicycle.__init__(self, wheel_size, color)\n",
    "                #super().__init__(wheel_size, color)\n",
    "                self.state = state\n",
    "\n",
    "            def fold(self):\n",
    "                self.state = 'folding'\n",
    "                print(\"자전거: 접기, state = {0}\".format(self.state))\n",
    "\n",
    "            def unfold(self):\n",
    "                self.state = 'unfolding'\n",
    "                print(\"자전거: 펴기, stae = {0}\".format(self.state))\n",
    "\n",
    "    folding_bicycle = FoldingBicycle(27, 'white','unfolding')\n",
    "\n",
    "    folding_bicycle.move(20)\n",
    "    folding_bicycle.fold()\n",
    "    folding_bicycle.unfold()"
   ]
  },
  {
   "cell_type": "code",
   "execution_count": null,
   "metadata": {},
   "outputs": [],
   "source": []
  }
 ],
 "metadata": {
  "kernelspec": {
   "display_name": "Python 3",
   "language": "python",
   "name": "python3"
  },
  "language_info": {
   "codemirror_mode": {
    "name": "ipython",
    "version": 3
   },
   "file_extension": ".py",
   "mimetype": "text/x-python",
   "name": "python",
   "nbconvert_exporter": "python",
   "pygments_lexer": "ipython3",
   "version": "3.8.3"
  }
 },
 "nbformat": 4,
 "nbformat_minor": 4
}
