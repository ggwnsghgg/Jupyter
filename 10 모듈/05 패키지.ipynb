{
 "cells": [
  {
   "cell_type": "markdown",
   "metadata": {},
   "source": [
    "### 패키지의 구조"
   ]
  },
  {
   "cell_type": "markdown",
   "metadata": {},
   "source": [
    "#### 패키지 만들기"
   ]
  },
  {
   "cell_type": "code",
   "execution_count": 13,
   "metadata": {},
   "outputs": [
    {
     "name": "stdout",
     "output_type": "stream",
     "text": [
      "Writing C:/myPyCode/packages/image/__init__.py\n"
     ]
    }
   ],
   "source": [
    "%%writefile C:/myPyCode/packages/image/__init__.py\n",
    "# File name: __init__py"
   ]
  },
  {
   "cell_type": "code",
   "execution_count": 20,
   "metadata": {},
   "outputs": [
    {
     "name": "stdout",
     "output_type": "stream",
     "text": [
      "Writing C:/myPyCode/packages/image/io_file/__init__.py\n"
     ]
    }
   ],
   "source": [
    "%%writefile C:/myPyCode/packages/image/io_file/__init__.py\n",
    "# File name: __init__py"
   ]
  },
  {
   "cell_type": "code",
   "execution_count": 21,
   "metadata": {},
   "outputs": [
    {
     "name": "stdout",
     "output_type": "stream",
     "text": [
      "Overwriting C:/myPyCode/packages/image/io_file/imgread.py\n"
     ]
    }
   ],
   "source": [
    "%%writefile C:/myPyCode/packages/image/io_file/imgread.py\n",
    "# File name: imgread.py\n",
    "\n",
    "def pngread():\n",
    "    print(\"pngread in imgread module\")\n",
    "    \n",
    "def jpgread():\n",
    "    print(\"jpgread in imgread module\")\n"
   ]
  },
  {
   "cell_type": "code",
   "execution_count": 22,
   "metadata": {},
   "outputs": [
    {
     "name": "stdout",
     "output_type": "stream",
     "text": [
      "폴더 PATH의 목록입니다.\n",
      "볼륨 일련 번호는 E2B3-1831입니다.\n",
      "C:\\MYPYCODE\\PACKAGES\n",
      "└─image\n",
      "    │  __init__.py\n",
      "    │  \n",
      "    ├─io_file\n",
      "    │  │  imgread.py\n",
      "    │  │  __init__.py\n",
      "    │  │  \n",
      "    │  └─__pycache__\n",
      "    │          imgread.cpython-38.pyc\n",
      "    │          \n",
      "    └─__pycache__\n",
      "            __init__.cpython-38.pyc\n",
      "            \n"
     ]
    }
   ],
   "source": [
    "!tree /F c:/myPyCode/packages"
   ]
  },
  {
   "cell_type": "markdown",
   "metadata": {},
   "source": [
    "### 패키지 사용하기"
   ]
  },
  {
   "cell_type": "code",
   "execution_count": 28,
   "metadata": {},
   "outputs": [
    {
     "name": "stdout",
     "output_type": "stream",
     "text": [
      "pngread in imgread module\n",
      "jpgread in imgread module\n"
     ]
    }
   ],
   "source": [
    "import image.io_file.imgread\n",
    "\n",
    "image.io_file.imgread.pngread()\n",
    "image.io_file.imgread.jpgread()"
   ]
  },
  {
   "cell_type": "code",
   "execution_count": 30,
   "metadata": {},
   "outputs": [
    {
     "name": "stdout",
     "output_type": "stream",
     "text": [
      "pngread in imgread module\n"
     ]
    }
   ],
   "source": [
    "from image.io_file.imgread import pngread\n",
    "\n",
    "pngread()"
   ]
  },
  {
   "cell_type": "code",
   "execution_count": 34,
   "metadata": {},
   "outputs": [
    {
     "name": "stdout",
     "output_type": "stream",
     "text": [
      "pngread in imgread module\n",
      "jpgread in imgread module\n"
     ]
    }
   ],
   "source": [
    "from image.io_file.imgread import *\n",
    "\n",
    "\n",
    "pngread()\n",
    "jpgread()"
   ]
  },
  {
   "cell_type": "code",
   "execution_count": 37,
   "metadata": {},
   "outputs": [
    {
     "name": "stdout",
     "output_type": "stream",
     "text": [
      "pngread in imgread module\n",
      "jpgread in imgread module\n"
     ]
    }
   ],
   "source": [
    "from image.io_file.imgread import pngread, jpgread\n",
    "\n",
    "pngread()\n",
    "jpgread()"
   ]
  },
  {
   "cell_type": "code",
   "execution_count": 38,
   "metadata": {},
   "outputs": [
    {
     "name": "stdout",
     "output_type": "stream",
     "text": [
      "pngread in imgread module\n",
      "jpgread in imgread module\n"
     ]
    }
   ],
   "source": [
    "from image.io_file import imgread as img\n",
    "img.pngread()\n",
    "img.jpgread()"
   ]
  },
  {
   "cell_type": "code",
   "execution_count": 40,
   "metadata": {},
   "outputs": [
    {
     "name": "stdout",
     "output_type": "stream",
     "text": [
      "pngread in imgread module\n",
      "jpgread in imgread module\n"
     ]
    }
   ],
   "source": [
    "from image.io_file.imgread import pngread as pread\n",
    "from image.io_file.imgread import jpgread as jread\n",
    "\n",
    "pread()\n",
    "jread()"
   ]
  },
  {
   "cell_type": "code",
   "execution_count": null,
   "metadata": {},
   "outputs": [],
   "source": []
  }
 ],
 "metadata": {
  "kernelspec": {
   "display_name": "Python 3",
   "language": "python",
   "name": "python3"
  },
  "language_info": {
   "codemirror_mode": {
    "name": "ipython",
    "version": 3
   },
   "file_extension": ".py",
   "mimetype": "text/x-python",
   "name": "python",
   "nbconvert_exporter": "python",
   "pygments_lexer": "ipython3",
   "version": "3.8.3"
  }
 },
 "nbformat": 4,
 "nbformat_minor": 4
}
