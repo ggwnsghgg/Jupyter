{
 "cells": [
  {
   "cell_type": "code",
   "execution_count": 2,
   "metadata": {},
   "outputs": [
    {
     "name": "stdout",
     "output_type": "stream",
     "text": [
      "당신의 이름은? 테스트\n",
      "당신은 테스트 이군요\n"
     ]
    }
   ],
   "source": [
    "yourName = input(\"당신의 이름은? \")\n",
    "print(\"당신은 {} 이군요\".format(yourName))"
   ]
  },
  {
   "cell_type": "code",
   "execution_count": 6,
   "metadata": {},
   "outputs": [
    {
     "name": "stdout",
     "output_type": "stream",
     "text": [
      "숫자를 입력하세요 : 4\n",
      "당신이 입력한 숫자는 4 입니다\n"
     ]
    }
   ],
   "source": [
    "num = input(\"숫자를 입력하세요 : \")\n",
    "print(\"당신이 입력한 숫자는 {} 입니다\".format(num))"
   ]
  },
  {
   "cell_type": "code",
   "execution_count": 7,
   "metadata": {},
   "outputs": [
    {
     "name": "stdout",
     "output_type": "stream",
     "text": [
      "정사각형 한 변의 길이는? : 5\n",
      "정사각형의 넓이 : 25\n"
     ]
    }
   ],
   "source": [
    "a = input(\"정사각형 한 변의 길이는? : \") \n",
    "area = int(a) ** 2\n",
    "print(\"정사각형의 넓이 : {}\".format(area))"
   ]
  },
  {
   "cell_type": "code",
   "execution_count": 8,
   "metadata": {},
   "outputs": [
    {
     "name": "stdout",
     "output_type": "stream",
     "text": [
      "정사각형 한 변의 길이는 ? :5.6\n",
      "정사각형의 넓이 : 31.359999999999996\n"
     ]
    }
   ],
   "source": [
    "b = input(\"정사각형 한 변의 길이는 ? :\")\n",
    "area = float(b) ** 2\n",
    "print(\"정사각형의 넓이 : {}\".format(area))"
   ]
  },
  {
   "cell_type": "code",
   "execution_count": null,
   "metadata": {},
   "outputs": [],
   "source": []
  }
 ],
 "metadata": {
  "kernelspec": {
   "display_name": "Python 3",
   "language": "python",
   "name": "python3"
  },
  "language_info": {
   "codemirror_mode": {
    "name": "ipython",
    "version": 3
   },
   "file_extension": ".py",
   "mimetype": "text/x-python",
   "name": "python",
   "nbconvert_exporter": "python",
   "pygments_lexer": "ipython3",
   "version": "3.8.3"
  }
 },
 "nbformat": 4,
 "nbformat_minor": 4
}
