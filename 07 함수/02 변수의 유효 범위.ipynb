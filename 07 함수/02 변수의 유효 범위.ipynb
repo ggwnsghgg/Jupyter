{
 "cells": [
  {
   "cell_type": "code",
   "execution_count": 2,
   "metadata": {},
   "outputs": [],
   "source": [
    "a = 5 # 전역 변수\n",
    "\n",
    "def func1():\n",
    "    a = 1 #지역 변수, func1 에서만 사용가능\n",
    "    print(\"[func1] 지역 변수 a = \", a)\n",
    "\n",
    "def func2():\n",
    "    a = 2 #지역 변수, func1 에서만 사용가능\n",
    "    print(\"[func1] 지역 변수 a = \", a)\n",
    "\n",
    "def func3():\n",
    "#     a = 3 #지역 변수, func1 에서만 사용가능\n",
    "    print(\"[func1] 지역 변수 a = \", a)\n",
    "    \n",
    "def func4():\n",
    "    global a          # 전역 변수\n",
    "    a = 4             # 지역 변수\n",
    "    print(\"[func1] 지역 변수 a = \", a)\n"
   ]
  },
  {
   "cell_type": "code",
   "execution_count": 26,
   "metadata": {},
   "outputs": [],
   "source": [
    "# a = 5 # 전역 변수"
   ]
  },
  {
   "cell_type": "code",
   "execution_count": 3,
   "metadata": {},
   "outputs": [
    {
     "name": "stdout",
     "output_type": "stream",
     "text": [
      "[func1] 지역 변수 a =  1\n",
      "[func1] 지역 변수 a =  2\n",
      "전역 변수 a = 5\n"
     ]
    }
   ],
   "source": [
    "func1() # 함수 func1() 호출\n",
    "func2() # 함수 func2() 호출\n",
    "print(\"전역 변수 a =\", a) # 전역 변수 출력"
   ]
  },
  {
   "cell_type": "code",
   "execution_count": 28,
   "metadata": {},
   "outputs": [
    {
     "name": "stdout",
     "output_type": "stream",
     "text": [
      "[func1] 지역 변수 a =  5\n",
      "[func1] 지역 변수 a =  4\n",
      "[func1] 지역 변수 a =  4\n"
     ]
    }
   ],
   "source": [
    "func3()\n",
    "func4()\n",
    "func3()"
   ]
  },
  {
   "cell_type": "code",
   "execution_count": null,
   "metadata": {},
   "outputs": [],
   "source": []
  },
  {
   "cell_type": "code",
   "execution_count": null,
   "metadata": {},
   "outputs": [],
   "source": []
  }
 ],
 "metadata": {
  "kernelspec": {
   "display_name": "Python 3",
   "language": "python",
   "name": "python3"
  },
  "language_info": {
   "codemirror_mode": {
    "name": "ipython",
    "version": 3
   },
   "file_extension": ".py",
   "mimetype": "text/x-python",
   "name": "python",
   "nbconvert_exporter": "python",
   "pygments_lexer": "ipython3",
   "version": "3.8.3"
  }
 },
 "nbformat": 4,
 "nbformat_minor": 4
}
