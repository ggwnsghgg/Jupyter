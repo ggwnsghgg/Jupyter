{
 "cells": [
  {
   "cell_type": "markdown",
   "metadata": {},
   "source": [
    "#### 함수의 기본 구조"
   ]
  },
  {
   "cell_type": "markdown",
   "metadata": {},
   "source": [
    "#### 인자도 반환 값도 없는 함수"
   ]
  },
  {
   "cell_type": "code",
   "execution_count": null,
   "metadata": {},
   "outputs": [],
   "source": [
    "# def my_func():\n",
    "#     print(\"My first luncation!\")\n",
    "#     piint(\"첫 번째 함수\")\n"
   ]
  },
  {
   "cell_type": "markdown",
   "metadata": {},
   "source": [
    "#### 인자도 반환 값도 없는 함수"
   ]
  },
  {
   "cell_type": "code",
   "execution_count": 27,
   "metadata": {},
   "outputs": [],
   "source": [
    "def my_func():\n",
    "    print(\"My first functio!\")\n",
    "    print(\"This is a function\")"
   ]
  },
  {
   "cell_type": "code",
   "execution_count": 28,
   "metadata": {},
   "outputs": [
    {
     "name": "stdout",
     "output_type": "stream",
     "text": [
      "My first functio!\n",
      "This is a function\n"
     ]
    }
   ],
   "source": [
    "my_func()"
   ]
  },
  {
   "cell_type": "markdown",
   "metadata": {},
   "source": [
    "#### 인자는 있으나 반환 값이 없는 함수"
   ]
  },
  {
   "cell_type": "code",
   "execution_count": 30,
   "metadata": {},
   "outputs": [],
   "source": [
    "def my_friend(friendName):           #함수 선언\n",
    "    print(\"{}는 나의 친구입니다.\".format(friendName))\n",
    "    \n",
    "my_friend(\"철수\")                    #함수 호출\n",
    "my_friend(\"영미\")                    #함수 호출"
   ]
  },
  {
   "cell_type": "code",
   "execution_count": 33,
   "metadata": {},
   "outputs": [
    {
     "name": "stdout",
     "output_type": "stream",
     "text": [
      "철수는 나의 친구입니다.\n"
     ]
    }
   ],
   "source": [
    "def my_friend(friendName):           #함수 선언\n",
    "    print(f\"{friendName}는 나의 친구입니다.\")\n",
    "\n",
    "my_friend(\"철수\")                    #함수 호출\n",
    "my_friend(\"영미\")                    #함수 호출"
   ]
  },
  {
   "cell_type": "code",
   "execution_count": 34,
   "metadata": {},
   "outputs": [
    {
     "name": "stdout",
     "output_type": "stream",
     "text": [
      "----------------------\n",
      "- 학생이름 :  현아\n",
      "- 학급번호 :  01\n",
      "- 전화번호 :  01-235-6789\n",
      "----------------------\n",
      "- 학생이름 :  진수\n",
      "- 학급번호 :  02\n",
      "- 전화번호 :  01-987-6543\n"
     ]
    }
   ],
   "source": [
    "def my_student_info(name, school_ID, phoneNumber):        #함수 선언\n",
    "    print(\"----------------------\")\n",
    "    print(\"- 학생이름 : \", name)\n",
    "    print(\"- 학급번호 : \", school_ID)\n",
    "    print(\"- 전화번호 : \", phoneNumber)\n",
    "\n",
    "my_student_info(\"현아\", \"01\", \"01-235-6789\")             #함수 호출\n",
    "my_student_info(\"진수\", \"02\", \"01-987-6543\")             #함수 호출"
   ]
  },
  {
   "cell_type": "code",
   "execution_count": 35,
   "metadata": {},
   "outputs": [
    {
     "name": "stdout",
     "output_type": "stream",
     "text": [
      "***********************\n",
      "- 학생이름 :  현아\n",
      "- 학급번호 :  01\n",
      "- 전화번호 :  01-235-6789\n",
      "***********************\n",
      "- 학생이름 :  진수\n",
      "- 학급번호 :  02\n",
      "- 전화번호 :  01-987-6543\n"
     ]
    }
   ],
   "source": [
    "def my_student_info(name, school_ID, phoneNumber):        #함수 선언\n",
    "    print(\"***********************\")\n",
    "    print(\"- 학생이름 : \", name)\n",
    "    print(\"- 학급번호 : \", school_ID)\n",
    "    print(\"- 전화번호 : \", phoneNumber)\n",
    "\n",
    "my_student_info(\"현아\", \"01\", \"01-235-6789\")             #함수 호출\n",
    "my_student_info(\"진수\", \"02\", \"01-987-6543\")             #함수 호출"
   ]
  },
  {
   "cell_type": "markdown",
   "metadata": {},
   "source": [
    "#### 인자도 있고 반환 값도 있는 함수"
   ]
  },
  {
   "cell_type": "code",
   "execution_count": 38,
   "metadata": {},
   "outputs": [
    {
     "data": {
      "text/plain": [
       "12"
      ]
     },
     "execution_count": 38,
     "metadata": {},
     "output_type": "execute_result"
    }
   ],
   "source": [
    "def my_calc(x,y):                # 함수 선언\n",
    "    z = x*y\n",
    "    return z\n",
    "\n",
    "my_calc(3, 4)                    # 함수 호출"
   ]
  },
  {
   "cell_type": "code",
   "execution_count": 41,
   "metadata": {},
   "outputs": [
    {
     "name": "stdout",
     "output_type": "stream",
     "text": [
      "***********************\n",
      "- 학생이름 :  현아\n",
      "- 학급번호 :  01\n",
      "- 전화번호 :  01-235-6789\n",
      "***********************\n"
     ]
    }
   ],
   "source": [
    "def my_student_info_list(student_info):        #함수 선언\n",
    "    print(\"***********************\")\n",
    "    print(\"- 학생이름 : \", student_info[0])\n",
    "    print(\"- 학급번호 : \", student_info[1])\n",
    "    print(\"- 전화번호 : \", student_info[2])\n",
    "    print(\"***********************\")\n",
    "\n",
    "my_student_info_list([\"현아\",\"01\",\"01-235-6789\"])             #함수 호출\n",
    "my_student_info_list([\"진수\",\"02\",\"01-987-6543\"]) "
   ]
  },
  {
   "cell_type": "code",
   "execution_count": 42,
   "metadata": {},
   "outputs": [
    {
     "name": "stdout",
     "output_type": "stream",
     "text": [
      "***********************\n",
      "- 학생이름 :  진수\n",
      "- 학급번호 :  02\n",
      "- 전화번호 :  01-987-6543\n",
      "***********************\n"
     ]
    }
   ],
   "source": [
    "my_student_info_list([\"진수\",\"02\",\"01-987-6543\"])             #함수 호출"
   ]
  },
  {
   "cell_type": "code",
   "execution_count": null,
   "metadata": {},
   "outputs": [],
   "source": []
  }
 ],
 "metadata": {
  "kernelspec": {
   "display_name": "Python 3",
   "language": "python",
   "name": "python3"
  },
  "language_info": {
   "codemirror_mode": {
    "name": "ipython",
    "version": 3
   },
   "file_extension": ".py",
   "mimetype": "text/x-python",
   "name": "python",
   "nbconvert_exporter": "python",
   "pygments_lexer": "ipython3",
   "version": "3.8.3"
  }
 },
 "nbformat": 4,
 "nbformat_minor": 4
}
