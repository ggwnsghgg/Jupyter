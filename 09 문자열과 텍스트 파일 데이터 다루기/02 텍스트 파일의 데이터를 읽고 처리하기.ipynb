{
 "cells": [
  {
   "cell_type": "markdown",
   "metadata": {},
   "source": [
    "#### 데이터 파일 준비 및 읽기"
   ]
  },
  {
   "cell_type": "code",
   "execution_count": 2,
   "metadata": {},
   "outputs": [
    {
     "name": "stdout",
     "output_type": "stream",
     "text": [
      "날짜    에스프레소  아메리카노  카페라테  카푸치노\n",
      "10.15       10  \t50         45       20   \n",
      "10.16       12\t\t45         41       18\n",
      "10.17       11\t\t53         32       25\n",
      "10.18       15\t\t49         38       22\n"
     ]
    }
   ],
   "source": [
    "!type c:\\myPyCode\\data\\coffeeShopSales.txt"
   ]
  },
  {
   "cell_type": "code",
   "execution_count": 9,
   "metadata": {},
   "outputs": [
    {
     "name": "stdout",
     "output_type": "stream",
     "text": [
      "날짜    에스프레소  아메리카노  카페라테  카푸치노\n",
      "10.15       10  \t50         45       20   \n",
      "10.16       12\t\t45         41       18\n",
      "10.17       11\t\t53         32       25\n",
      "10.18       15\t\t49         38       22"
     ]
    }
   ],
   "source": [
    "file_name ='c:/myPyCode/data/coffeeShopSales.txt'\n",
    "\n",
    "f= open(file_name)       #파일 열기\n",
    "for line in f:           #한 줄씩 읽기\n",
    "    print(line, end='')  #한 줄씩 출력\n",
    "f.close()                #파일 닫기"
   ]
  },
  {
   "cell_type": "markdown",
   "metadata": {},
   "source": [
    "#### 파일에서 읽은 문자열 데이터 처리"
   ]
  },
  {
   "cell_type": "code",
   "execution_count": 18,
   "metadata": {},
   "outputs": [
    {
     "data": {
      "text/plain": [
       "['날짜', '에스프레소', '아메리카노', '카페라테', '카푸치노']"
      ]
     },
     "execution_count": 18,
     "metadata": {},
     "output_type": "execute_result"
    }
   ],
   "source": [
    "f = open(file_name)    #파일 열기\n",
    "header = f.readline()  #한 줄씩 읽기\n",
    "f.close()              #파일 닫기\n",
    "\n",
    "header\n",
    "header_list = header.split() # 첫 줄의 문자열을 분리후 리스트로 변환\n",
    "header_list\n"
   ]
  },
  {
   "cell_type": "code",
   "execution_count": 37,
   "metadata": {},
   "outputs": [
    {
     "name": "stdout",
     "output_type": "stream",
     "text": [
      "에스프레소: [10, 12, 11, 15]\n",
      "아메리카노: [50, 45, 53, 49]\n",
      "카페라테: [45, 41, 32, 38]\n",
      "카푸치노: [20, 18, 25, 22]\n",
      "[에스프레소]판매량\n",
      "- 나흘 전체: 48, 하루 평균: 12.0\n",
      "[아메리카노]판매량\n",
      "- 나흘 전체: 197, 하루 평균: 49.25\n",
      "[카페라테]판매량\n",
      "- 나흘 전체: 156, 하루 평균: 39.0\n",
      "[카푸치노]판매량\n",
      "- 나흘 전체: 85, 하루 평균: 21.25\n"
     ]
    }
   ],
   "source": [
    "f = open(file_name)           # 파일 열기\n",
    "header = f.readline()         # 데이터의 첫 번째 줄을 읽음\n",
    "header_list = header.split()  # 첫 줄의 문자열을 분리한 후 리스트로 변환\n",
    "\n",
    "espresso = []\n",
    "americano = []\n",
    "cafelatte = []\n",
    "cappucino = []\n",
    "\n",
    "for line in f:\n",
    "    dataList = line.split()\n",
    "    \n",
    "    espresso.append(int(dataList[1]))\n",
    "    americano.append(int(dataList[2]))\n",
    "    cafelatte.append(int(dataList[3]))\n",
    "    cappucino.append(int(dataList[4]))\n",
    "f.close()\n",
    "\n",
    "print(f\"{header_list[1]}: {espresso}\")\n",
    "print(f\"{header_list[2]}: {americano}\")\n",
    "print(f\"{header_list[3]}: {cafelatte}\")\n",
    "print(f\"{header_list[4]}: {cappucino}\")\n",
    "\n",
    "total_sum = [sum(espresso), sum(americano), sum(cafelatte), sum(cappucino)]\n",
    "total_mean = [sum(espresso)/len(espresso), sum(americano)/len(americano),\n",
    "             sum(cafelatte)/len(cafelatte), sum(cappucino)/len(cappucino)]\n",
    "\n",
    "for k in range(len(total_sum)):\n",
    "    print(f'[{header_list[k+1]}]판매량')\n",
    "    print('- 나흘 전체: {0}, 하루 평균: {1}'.format(total_sum[k], total_mean[k]))"
   ]
  },
  {
   "cell_type": "code",
   "execution_count": null,
   "metadata": {},
   "outputs": [],
   "source": [
    " "
   ]
  }
 ],
 "metadata": {
  "kernelspec": {
   "display_name": "Python 3",
   "language": "python",
   "name": "python3"
  },
  "language_info": {
   "codemirror_mode": {
    "name": "ipython",
    "version": 3
   },
   "file_extension": ".py",
   "mimetype": "text/x-python",
   "name": "python",
   "nbconvert_exporter": "python",
   "pygments_lexer": "ipython3",
   "version": "3.8.3"
  }
 },
 "nbformat": 4,
 "nbformat_minor": 4
}
