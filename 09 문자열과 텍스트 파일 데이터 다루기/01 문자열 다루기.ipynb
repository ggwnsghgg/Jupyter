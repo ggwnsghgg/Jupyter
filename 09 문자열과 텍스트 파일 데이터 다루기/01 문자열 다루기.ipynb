{
 "cells": [
  {
   "cell_type": "markdown",
   "metadata": {},
   "source": [
    "#### 문자열 분리하기"
   ]
  },
  {
   "cell_type": "code",
   "execution_count": 1,
   "metadata": {},
   "outputs": [],
   "source": [
    "coffee_menu_str = \"에스프레소 , 아메리카노, 카페라테 , 카푸치노\""
   ]
  },
  {
   "cell_type": "code",
   "execution_count": 4,
   "metadata": {},
   "outputs": [
    {
     "data": {
      "text/plain": [
       "['에스프레소 , 아메리카노, 카페라테 , 카푸치노']"
      ]
     },
     "execution_count": 4,
     "metadata": {},
     "output_type": "execute_result"
    }
   ],
   "source": [
    "coffee_menu_str.split('.')"
   ]
  },
  {
   "cell_type": "code",
   "execution_count": 5,
   "metadata": {},
   "outputs": [
    {
     "data": {
      "text/plain": [
       "['에스프레소 , 아메리카노, 카페라테 , 카푸치노']"
      ]
     },
     "execution_count": 5,
     "metadata": {},
     "output_type": "execute_result"
    }
   ],
   "source": [
    "\"에스프레소 , 아메리카노, 카페라테 , 카푸치노\".split('.')"
   ]
  },
  {
   "cell_type": "code",
   "execution_count": 6,
   "metadata": {},
   "outputs": [
    {
     "data": {
      "text/plain": [
       "['에스프레소 , 아메리카노, 카페라테 , 카푸치노']"
      ]
     },
     "execution_count": 6,
     "metadata": {},
     "output_type": "execute_result"
    }
   ],
   "source": [
    "\"에스프레소 , 아메리카노, 카페라테 , 카푸치노\".split(';')"
   ]
  },
  {
   "cell_type": "code",
   "execution_count": 7,
   "metadata": {},
   "outputs": [
    {
     "data": {
      "text/plain": [
       "['에스프레소 , 아메리카노, 카페라테 , 카푸치노']"
      ]
     },
     "execution_count": 7,
     "metadata": {},
     "output_type": "execute_result"
    }
   ],
   "source": [
    "\"에스프레소 , 아메리카노, 카페라테 , 카푸치노\".split('\\n')"
   ]
  },
  {
   "cell_type": "code",
   "execution_count": 8,
   "metadata": {},
   "outputs": [
    {
     "data": {
      "text/plain": [
       "['에스프레소', ',', '아메리카노, 카페라테 , 카푸치노']"
      ]
     },
     "execution_count": 8,
     "metadata": {},
     "output_type": "execute_result"
    }
   ],
   "source": [
    "\"에스프레소 , 아메리카노, 카페라테 , 카푸치노\".split(maxsplit=2)"
   ]
  },
  {
   "cell_type": "code",
   "execution_count": 10,
   "metadata": {},
   "outputs": [
    {
     "name": "stdout",
     "output_type": "stream",
     "text": [
      "['+82', '01-2345-6789']\n",
      "국내전화번호: 01-2345-6789\n",
      "국가번호 :+82 \n"
     ]
    }
   ],
   "source": [
    "phone_number = \"+82-01-2345-6789\"       #국가 번호가 포함된 전화번호\n",
    "split_num = phone_number.split(\"-\", 1)  #국가 번호와 나머지 번호 분리\n",
    "\n",
    "print(split_num)\n",
    "print(f\"국내전화번호: {split_num[1]}\")\n",
    "print(f\"국가번호 :{split_num[0]} \")"
   ]
  },
  {
   "cell_type": "code",
   "execution_count": 26,
   "metadata": {},
   "outputs": [
    {
     "name": "stdout",
     "output_type": "stream",
     "text": [
      "['010', '7620', '1745']\n",
      "010\n",
      "7620\n",
      "전화번호 중간 자리 hidden 처리 : 010-****-1745\n"
     ]
    }
   ],
   "source": [
    "junho_number = \"010-7620-1745\"     \n",
    "junho_num_split = junho_number.split(\"-\", 2)\n",
    "\n",
    "print(junho_num_split)\n",
    "print(junho_num_split[0])\n",
    "print(junho_num_split[1])\n",
    "\n",
    "first_num = junho_num_split[0]\n",
    "middle_num = junho_num_split[1]\n",
    "last_num = junho_num_split[2]\n",
    "print(f\"전화번호 중간 자리 hidden 처리 : {first_num}-****-{last_num}\")"
   ]
  },
  {
   "cell_type": "markdown",
   "metadata": {},
   "source": [
    "#### 필요없는 문자열 삭제하기"
   ]
  },
  {
   "cell_type": "code",
   "execution_count": 29,
   "metadata": {},
   "outputs": [
    {
     "data": {
      "text/plain": [
       "'python'"
      ]
     },
     "execution_count": 29,
     "metadata": {},
     "output_type": "execute_result"
    }
   ],
   "source": [
    "str = \"    python    \"\n",
    "str.strip()"
   ]
  },
  {
   "cell_type": "code",
   "execution_count": 31,
   "metadata": {},
   "outputs": [
    {
     "data": {
      "text/plain": [
       "''"
      ]
     },
     "execution_count": 31,
     "metadata": {},
     "output_type": "execute_result"
    }
   ],
   "source": [
    "str = \"   \"\n",
    "str.strip()"
   ]
  },
  {
   "cell_type": "code",
   "execution_count": 37,
   "metadata": {},
   "outputs": [
    {
     "data": {
      "text/plain": [
       "'Python'"
      ]
     },
     "execution_count": 37,
     "metadata": {},
     "output_type": "execute_result"
    }
   ],
   "source": [
    "str = \"aaaaPythonaaa\"\n",
    "# str1 = \"aaaaPyathonaaa\" # 중간에 a를 넣어놓으면 단어로 생각하기때문에 제거하지않음\n",
    "\n",
    "str.strip('a')\n",
    "# str1.strip('a')"
   ]
  },
  {
   "cell_type": "code",
   "execution_count": 60,
   "metadata": {},
   "outputs": [
    {
     "data": {
      "text/plain": [
       "'Python'"
      ]
     },
     "execution_count": 60,
     "metadata": {},
     "output_type": "execute_result"
    }
   ],
   "source": [
    "str = \"aaaaPythonbbaa\"\n",
    "# temp1 = str.strip('a')  #a제거\n",
    "# temp1.strip('b')        #b제거\n",
    "# temp1 = str.strip('ab')  #ab 둘다 제거\n",
    "temp1 = str.strip('ba')   #ab 둘다 제거\n",
    "temp1"
   ]
  },
  {
   "cell_type": "code",
   "execution_count": 63,
   "metadata": {},
   "outputs": [
    {
     "data": {
      "text/plain": [
       "'Python is powerful'"
      ]
     },
     "execution_count": 63,
     "metadata": {},
     "output_type": "execute_result"
    }
   ],
   "source": [
    "test_str_multi = \"##***!!!##.... Python is powerful.!... %%!#..  \"\n",
    "# test_str_multi.strip('*.#! %')\n",
    "test_str_multi.strip('%* !#.')"
   ]
  },
  {
   "cell_type": "code",
   "execution_count": 64,
   "metadata": {},
   "outputs": [
    {
     "data": {
      "text/plain": [
       "'Python'"
      ]
     },
     "execution_count": 64,
     "metadata": {},
     "output_type": "execute_result"
    }
   ],
   "source": [
    "\"   Python   \".strip(' ')"
   ]
  },
  {
   "cell_type": "code",
   "execution_count": 67,
   "metadata": {},
   "outputs": [
    {
     "data": {
      "text/plain": [
       "'Python'"
      ]
     },
     "execution_count": 67,
     "metadata": {},
     "output_type": "execute_result"
    }
   ],
   "source": [
    "\"\\n Python   \\n\\n\".strip(' \\n')"
   ]
  },
  {
   "cell_type": "code",
   "execution_count": 69,
   "metadata": {},
   "outputs": [
    {
     "data": {
      "text/plain": [
       "'Python'"
      ]
     },
     "execution_count": 69,
     "metadata": {},
     "output_type": "execute_result"
    }
   ],
   "source": [
    "\"\\n Python   \\n\\n\".strip()"
   ]
  },
  {
   "cell_type": "code",
   "execution_count": 70,
   "metadata": {},
   "outputs": [
    {
     "data": {
      "text/plain": [
       "'Ball'"
      ]
     },
     "execution_count": 70,
     "metadata": {},
     "output_type": "execute_result"
    }
   ],
   "source": [
    "\"aaaBallaaa\".strip('a')"
   ]
  },
  {
   "cell_type": "code",
   "execution_count": 71,
   "metadata": {},
   "outputs": [
    {
     "data": {
      "text/plain": [
       "'This is very \\n fast.'"
      ]
     },
     "execution_count": 71,
     "metadata": {},
     "output_type": "execute_result"
    }
   ],
   "source": [
    "\"\\n This is very \\n fast. \\n\\n\".strip()"
   ]
  },
  {
   "cell_type": "code",
   "execution_count": 73,
   "metadata": {},
   "outputs": [
    {
     "name": "stdout",
     "output_type": "stream",
     "text": [
      "Python is easy to lean.\n",
      "Python is easy to lean.000\n",
      "000Python is easy to lean.\n"
     ]
    }
   ],
   "source": [
    "str_lr = \"000Python is easy to lean.000\"\n",
    "print(str_lr.strip('0'))\n",
    "print(str_lr.lstrip('0'))\n",
    "print(str_lr.rstrip('0'))"
   ]
  },
  {
   "cell_type": "code",
   "execution_count": 92,
   "metadata": {},
   "outputs": [
    {
     "data": {
      "text/plain": [
       "[' 에스프레소', ' 아메리카노', '  카페라테  ', '카푸치노 ']"
      ]
     },
     "execution_count": 92,
     "metadata": {},
     "output_type": "execute_result"
    }
   ],
   "source": [
    "coffee_menu = \" 에스프레소, 아메리카노,  카페라테  ,카푸치노 \"\n",
    "coffee_menu_list = coffee_menu.split(',')\n",
    "coffee_menu_list"
   ]
  },
  {
   "cell_type": "code",
   "execution_count": 91,
   "metadata": {},
   "outputs": [
    {
     "name": "stdout",
     "output_type": "stream",
     "text": [
      "['에스프레소', '아메리카노', '카페라테', '카푸치노']\n"
     ]
    }
   ],
   "source": [
    "coffee_list = []\n",
    "for coffee in coffee_menu_list:\n",
    "        temp = coffee.strip()\n",
    "        coffee_list.append(temp)\n",
    "        \n",
    "print(coffee_list)"
   ]
  },
  {
   "cell_type": "markdown",
   "metadata": {},
   "source": [
    "#### 문자열 연결하기"
   ]
  },
  {
   "cell_type": "code",
   "execution_count": 1,
   "metadata": {},
   "outputs": [
    {
     "name": "stdout",
     "output_type": "stream",
     "text": [
      "철수님 , 주소와 전화 번호를 입력해 주세요\n",
      "영미님 , 주소와 전화 번호를 입력해 주세요\n"
     ]
    }
   ],
   "source": [
    "name1 = \"철수\"\n",
    "name2 = \"영미\"\n",
    "\n",
    "hello = \"님 , 주소와 전화 번호를 입력해 주세요\"\n",
    "print(name1+hello)\n",
    "print(name2+hello)"
   ]
  },
  {
   "cell_type": "code",
   "execution_count": 6,
   "metadata": {},
   "outputs": [
    {
     "data": {
      "text/plain": [
       "['서울시', '서초구', '반포대로', '201(반포동)']"
      ]
     },
     "execution_count": 6,
     "metadata": {},
     "output_type": "execute_result"
    }
   ],
   "source": [
    "address_list = ['서울시', '서초구','반포대로','201(반포동)']\n",
    "address_list\n"
   ]
  },
  {
   "cell_type": "code",
   "execution_count": 3,
   "metadata": {},
   "outputs": [
    {
     "data": {
      "text/plain": [
       "'서울시 서초구 반포대로 201(반포동)'"
      ]
     },
     "execution_count": 3,
     "metadata": {},
     "output_type": "execute_result"
    }
   ],
   "source": [
    "a = \" \"\n",
    "a.join(address_list)"
   ]
  },
  {
   "cell_type": "code",
   "execution_count": 7,
   "metadata": {
    "scrolled": true
   },
   "outputs": [
    {
     "data": {
      "text/plain": [
       "'서울시 서초구 반포대로 201(반포동)'"
      ]
     },
     "execution_count": 7,
     "metadata": {},
     "output_type": "execute_result"
    }
   ],
   "source": [
    "\" \".join(address_list)"
   ]
  },
  {
   "cell_type": "code",
   "execution_count": 8,
   "metadata": {},
   "outputs": [
    {
     "data": {
      "text/plain": [
       "'서울시*^~^*서초구*^~^*반포대로*^~^*201(반포동)'"
      ]
     },
     "execution_count": 8,
     "metadata": {},
     "output_type": "execute_result"
    }
   ],
   "source": [
    "\"*^~^*\".join(address_list)"
   ]
  },
  {
   "cell_type": "code",
   "execution_count": 11,
   "metadata": {},
   "outputs": [
    {
     "name": "stdout",
     "output_type": "stream",
     "text": [
      "신동욱vip 회원님 안녕하세요\n",
      "문지현vip 회원님 안녕하세요\n"
     ]
    }
   ],
   "source": [
    "vip_list = [\"신동욱\", \"문지현\"]\n",
    "\n",
    "hello = \"vip 회원님 안녕하세요\"\n",
    "\n",
    "for vip in vip_list:\n",
    "    print(vip + hello)"
   ]
  },
  {
   "cell_type": "markdown",
   "metadata": {},
   "source": [
    "#### 문자열 찾기"
   ]
  },
  {
   "cell_type": "code",
   "execution_count": 17,
   "metadata": {
    "scrolled": true
   },
   "outputs": [
    {
     "name": "stdout",
     "output_type": "stream",
     "text": [
      "찾는 문자열의 위치:  0\n",
      "찾는 문자열의 위치:  7\n",
      "찾는 문자열의 위치:  5\n",
      "찾는 문자열의 위치:  -1\n",
      "찾는 문자열이 없습니다\n"
     ]
    }
   ],
   "source": [
    "str_f = \"Python code.\"\n",
    "print(\"찾는 문자열의 위치: \", str_f.find(\"Python\"))\n",
    "print(\"찾는 문자열의 위치: \", str_f.find(\"code\"))\n",
    "print(\"찾는 문자열의 위치: \", str_f.find(\"n\"))\n",
    "print(\"찾는 문자열의 위치: \", str_f.find(\"easy\"))\n",
    "\n",
    "if str_f.find(\"easy\") == -1:\n",
    "    print(\"찾는 문자열이 없습니다\")"
   ]
  },
  {
   "cell_type": "code",
   "execution_count": 18,
   "metadata": {},
   "outputs": [
    {
     "name": "stdout",
     "output_type": "stream",
     "text": [
      "20\n",
      "-1\n"
     ]
    }
   ],
   "source": [
    "str_f_se = \"Python is powerful. Python is easy to learn\"\n",
    "\n",
    "print(str_f_se.find(\"Python\", 10, 30)) # 시작 위치 와 끝 위치 지정\n",
    "print(str_f_se.find(\"Python\", 35))     # 찾기 위한 시작 위치 지정"
   ]
  },
  {
   "cell_type": "code",
   "execution_count": 27,
   "metadata": {},
   "outputs": [
    {
     "name": "stdout",
     "output_type": "stream",
     "text": [
      "20\n",
      "-1\n"
     ]
    }
   ],
   "source": [
    "str_f_se = \"Python is powerful. Python is easy to learn\"\n",
    "\n",
    "print(str_f_se.find(\"Python\", 10, 30)) # 시작 위치 와 끝 위치 지정\n",
    "print(str_f_se.find(\"Python\", 35))     # 찾기 위한 시작 위치 지정"
   ]
  },
  {
   "cell_type": "code",
   "execution_count": 33,
   "metadata": {},
   "outputs": [
    {
     "name": "stdout",
     "output_type": "stream",
     "text": [
      "Python의 개수는? :  3\n",
      "powerful의 개수는? :  1\n",
      "IPython의 개수는? :  0\n"
     ]
    }
   ],
   "source": [
    "str_c = \"Python is powerful. Python is easy to learn. Python is open.\"\n",
    "\n",
    "print(\"Python의 개수는? : \", str_c.count(\"Python\")) # 시작 위치 와 끝 위치 지정\n",
    "print(\"powerful의 개수는? : \", str_c.count(\"powerful\")) # 찾기 위한 시작 위치 지정\n",
    "print(\"IPython의 개수는? : \", str_c.count(\"IPython\"))"
   ]
  },
  {
   "cell_type": "code",
   "execution_count": 40,
   "metadata": {},
   "outputs": [
    {
     "name": "stdout",
     "output_type": "stream",
     "text": [
      "True\n",
      "False\n",
      "True\n",
      "False\n"
     ]
    }
   ],
   "source": [
    "str_se = \"Python is powerful. Python is easy to learn.\"\n",
    " \n",
    "print(str_se.startswith(\"Python\"))\n",
    "print(str_se.startswith(\"is\"))\n",
    "print(str_se.endswith(\".\"))\n",
    "print(str_se.endswith(\"learn\"))"
   ]
  },
  {
   "cell_type": "markdown",
   "metadata": {},
   "source": [
    "#### 문자열 바꾸기"
   ]
  },
  {
   "cell_type": "code",
   "execution_count": 54,
   "metadata": {},
   "outputs": [
    {
     "name": "stdout",
     "output_type": "stream",
     "text": [
      "[Python] [is] [fast]\n",
      "Python] is] fast]\n",
      "Python is fast\n"
     ]
    }
   ],
   "source": [
    "# str_a = 'Python is fast. Python is friendly. Python is open.'\n",
    "# print(str_a.replace('Python', 'IPython'))\n",
    "# print(str_a.replace('Python', 'IPython', 2))\n",
    "\n",
    "str_b = '[Python] [is] [fast]'\n",
    "str_b1 = str_b.replace('[', '')\n",
    "str_b2 = str_b1.replace(']', '')\n",
    "\n",
    "print(str_b)\n",
    "print(str_b1)\n",
    "print(str_b2)"
   ]
  },
  {
   "cell_type": "code",
   "execution_count": 80,
   "metadata": {},
   "outputs": [
    {
     "name": "stdout",
     "output_type": "stream",
     "text": [
      "pw를 입력하세요 : 1234\n",
      "기존비밀번호 의 값 :  1234\n",
      "입력하신 비밀번호 의 값 :  1234\n",
      "비밀번호를 초기화 했습니다.\n"
     ]
    }
   ],
   "source": [
    "id = 'wnsgh0905@naver.com'\n",
    "pw = '1234'\n",
    "\n",
    "for num in range(5):\n",
    "    \n",
    "    pw_input = input(\"pw를 입력하세요 : \")\n",
    "    \n",
    "    if pw_input == pw:\n",
    "        print(\"기존비밀번호 의 값 : \", pw)\n",
    "        print(\"입력하신 비밀번호 의 값 : \", pw_input)\n",
    "        clear_pw = pw_input.replace(pw, '')\n",
    "        print(\"비밀번호를 초기화 했습니다.\")\n",
    "        new_pw = input()\n",
    "        break\n",
    "    else:\n",
    "        num = num + 1\n",
    "        print(\"비밀번호를 틀리셨습니다.\")\n",
    "        print(num)\n",
    "        if num == 5:\n",
    "            print('비밀번호를 5회 틀리셨습니다. 영업점에 문의하세요')\n",
    "        continue"
   ]
  },
  {
   "cell_type": "markdown",
   "metadata": {},
   "source": [
    "####  문자열의 구성 확인하기"
   ]
  },
  {
   "cell_type": "code",
   "execution_count": 90,
   "metadata": {},
   "outputs": [
    {
     "name": "stdout",
     "output_type": "stream",
     "text": [
      "True\n",
      "False\n",
      "True\n",
      "False\n",
      "True\n",
      "False\n",
      "True\n",
      "False\n",
      "True\n",
      "False\n",
      "True\n",
      "False\n"
     ]
    }
   ],
   "source": [
    "print('Python'.isalpha())   #문자열이 문자로 구성되었는지 확인\n",
    "print('Ver. 3.x'.isalpha())\n",
    "\n",
    "print('12345'.isdigit())   #문자열이 숫자로 구성되었는지 확인\n",
    "print('12345abc'.isdigit())\n",
    "\n",
    "print('abc1234'.isalnum()) #문자열이 특수 문자나 공백이 아닌 문자와 숫자로 구성되었는지 확인\n",
    "print('   abc1234'.isalnum())\n",
    "\n",
    "print('   '.isspace())     #문자열이 공백으로 구성되었는지 확인\n",
    "print('1'.isspace())\n",
    "\n",
    "print('PYTHON'.isupper()) #문자열이 대문자로 구성되었는지 확인\n",
    "print('Python'.isupper()) #문자열이 대문자로 구성되었는지 확인\n",
    "print('python'.islower()) #문자열이 대문자로 구성되었는지 확인\n",
    "print('Python'.islower()) #문자열이 대문자로 구성되었는지 확인"
   ]
  },
  {
   "cell_type": "markdown",
   "metadata": {},
   "source": [
    "#### 대소문자로 변경하기"
   ]
  },
  {
   "cell_type": "code",
   "execution_count": 92,
   "metadata": {},
   "outputs": [
    {
     "name": "stdout",
     "output_type": "stream",
     "text": [
      "python powerful. python is easy to learn.\n",
      "PYTHON POWERFUL. PYTHON IS EASY TO LEARN.\n"
     ]
    }
   ],
   "source": [
    "string1 = 'Python powerful. PYTHON IS EASY TO LEARN.'\n",
    "print(string1.lower())\n",
    "print(string1.upper())\n"
   ]
  },
  {
   "cell_type": "code",
   "execution_count": 93,
   "metadata": {},
   "outputs": [
    {
     "data": {
      "text/plain": [
       "False"
      ]
     },
     "execution_count": 93,
     "metadata": {},
     "output_type": "execute_result"
    }
   ],
   "source": [
    "'Python' == 'python'"
   ]
  },
  {
   "cell_type": "code",
   "execution_count": 94,
   "metadata": {},
   "outputs": [
    {
     "name": "stdout",
     "output_type": "stream",
     "text": [
      "True\n",
      "True\n"
     ]
    }
   ],
   "source": [
    "print('Python'.lower() == 'python'.lower())\n",
    "print('Python'.upper() == 'python'.upper()"
   ]
  },
  {
   "cell_type": "code",
   "execution_count": 112,
   "metadata": {},
   "outputs": [
    {
     "name": "stdout",
     "output_type": "stream",
     "text": [
      "성 을 입력하세요 : shin\n",
      "이름을 입력하세요 : junho\n",
      "SHIN JUNHO\n"
     ]
    },
    {
     "data": {
      "text/plain": [
       "True"
      ]
     },
     "execution_count": 112,
     "metadata": {},
     "output_type": "execute_result"
    }
   ],
   "source": [
    "frist_name = input(\"성 을 입력하세요 : \")\n",
    "\n",
    "frist_name = frist_name.upper()\n",
    "\n",
    "if frist_name.isupper():  \n",
    "    last_name = input(\"이름을 입력하세요 : \")\n",
    "    last_name = last_name.upper()\n",
    "    if last_name.isupper():\n",
    "   \n",
    "        print(f\"{frist_name} {last_name}\")\n",
    "    else:\n",
    "        print(\"이름이 소문자로 입력 되었습니다.\")\n",
    "else:\n",
    "    print(\"성 이 소문자로 입력 되었습니다.\")\n",
    "    \n",
    "\n",
    "\n",
    "# str_upper = 'Python'.upper()\n",
    "# str_upper.isupper()"
   ]
  },
  {
   "cell_type": "code",
   "execution_count": null,
   "metadata": {},
   "outputs": [],
   "source": []
  },
  {
   "cell_type": "code",
   "execution_count": null,
   "metadata": {},
   "outputs": [],
   "source": []
  }
 ],
 "metadata": {
  "kernelspec": {
   "display_name": "Python 3",
   "language": "python",
   "name": "python3"
  },
  "language_info": {
   "codemirror_mode": {
    "name": "ipython",
    "version": 3
   },
   "file_extension": ".py",
   "mimetype": "text/x-python",
   "name": "python",
   "nbconvert_exporter": "python",
   "pygments_lexer": "ipython3",
   "version": "3.8.3"
  }
 },
 "nbformat": 4,
 "nbformat_minor": 4
}
