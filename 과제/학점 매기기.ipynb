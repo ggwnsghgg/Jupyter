{
 "cells": [
  {
   "cell_type": "markdown",
   "metadata": {},
   "source": [
    "### 학점에 따른 점수 주기"
   ]
  },
  {
   "cell_type": "code",
   "execution_count": 1,
   "metadata": {},
   "outputs": [
    {
     "name": "stdout",
     "output_type": "stream",
     "text": [
      "점수를 입력하세요. : 89\n",
      "점수는 A+점 입니다.\n",
      "학점은 5.0 입니다.\n"
     ]
    }
   ],
   "source": [
    "\n",
    "\n",
    "# 90점 이상 ~ 100점 : A+\n",
    "# 80점 이상 ~ 89점 이하 : A\n",
    "# 70점 이상 ~ 79점 이하 : A-\n",
    "# 60점 이상 ~ 69점 이하 : B+\n",
    "# 50점 이상 ~ 59점 이하 : B\n",
    "# 그 이하 : B-\n",
    "\n",
    "while True:\n",
    "    try:\n",
    "        score = int(input(\"점수를 입력하세요. : \"))\n",
    "        break\n",
    "    except ValueError:\n",
    "        print(\"점수를 다시 입력하세요. \")\n",
    "        \n",
    "score2 = 'F'\n",
    "\n",
    "if (90 >= score) and (score <= 100):\n",
    "    score2 = 'A+'\n",
    "elif (80 >= score) and (score >= 89):\n",
    "    score2 = 'A'\n",
    "elif (70 >= score) and (score >= 79):\n",
    "    score2 = 'A-'\n",
    "elif (60 >= score) and (score > 69):\n",
    "    score2 = 'B+'\n",
    "elif (50 <= score) and (score > 59):\n",
    "    score2 = 'B'\n",
    "else:\n",
    "    score2 = 'B-'\n",
    "    \n",
    "print(\"점수는 {0}점 입니다.\".format(score2))\n",
    "st= {\"A+\":5.0, \"A\":4.5, \"A-\":4.0, \"B+\":3.5, \"B\":3.0, \"B-\":2.0}\n",
    "print(\"학점은 {0} 입니다.\".format(st[score2]))\n"
   ]
  },
  {
   "cell_type": "markdown",
   "metadata": {},
   "source": [
    " "
   ]
  },
  {
   "cell_type": "code",
   "execution_count": null,
   "metadata": {},
   "outputs": [],
   "source": []
  },
  {
   "cell_type": "code",
   "execution_count": null,
   "metadata": {},
   "outputs": [],
   "source": []
  }
 ],
 "metadata": {
  "kernelspec": {
   "display_name": "Python 3",
   "language": "python",
   "name": "python3"
  },
  "language_info": {
   "codemirror_mode": {
    "name": "ipython",
    "version": 3
   },
   "file_extension": ".py",
   "mimetype": "text/x-python",
   "name": "python",
   "nbconvert_exporter": "python",
   "pygments_lexer": "ipython3",
   "version": "3.8.3"
  }
 },
 "nbformat": 4,
 "nbformat_minor": 4
}
