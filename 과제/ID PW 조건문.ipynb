{
 "cells": [
  {
   "cell_type": "code",
   "execution_count": 2,
   "metadata": {},
   "outputs": [
    {
     "name": "stdout",
     "output_type": "stream",
     "text": [
      " ID를 입력하세요 : admin\n",
      " PW를 입력하세요 : 1234\n",
      " 로그인되었습니다 : \n",
      "비밀번호 변경 후 90일이 지났습니다 변경하시는것을 권장드립니다 변경하시겠습니까? Y/N y\n",
      " ID를 입력하세요 : admin\n",
      " PW를 입력하세요 : 1234\n",
      " 로그인되었습니다 \n"
     ]
    }
   ],
   "source": [
    "# 리스트에 ID, Phone Number, E-mail 물어봐서 \n",
    "# 조건문(if/else) 활용하여 \n",
    "# ID 맞으면 PW 물어보고 아니면 \"죄송합니다. 저희 회사의 고객님이 아닙니다. \" \n",
    "# ID 맞고, 비밀번호 맞으면 \"문지현 고객님 환영합니다.\" \n",
    "# ID가 맞고, 비밀번호가 틀리면, \"초기화하시겠습니까?(Y/N)\",\n",
    "# 초기화 한다고 하면 \"새 비밀번호를 입력해주세요\"\n",
    "# 이를 통해 새 비밀번호 입력하고 \n",
    "# \"새로운 비밀번호는 비밀번호입니다.\"\n",
    "ID = \"admin\"\n",
    "PW = 1234\n",
    "\n",
    "while True:\n",
    "    try:\n",
    "        id_input = input(\" ID를 입력하세요 : \")\n",
    "        pw_input = int(input(\" PW를 입력하세요 : \"))\n",
    "        break\n",
    "        \n",
    "    except ValueError:\n",
    "        print(\"다시 입력하세요\")\n",
    "\n",
    "\n",
    "if id_input == ID:\n",
    "    if pw_input == PW:\n",
    "        print(\" 로그인되었습니다 : \")\n",
    "        if \"Y\" or \"y\" in pw_change:\n",
    "            pw_change = input(\"비밀번호 변경 후 90일이 지났습니다 변경하시는것을 권장드립니다 변경하시겠습니까? Y/N \")\n",
    "        elif \"N\" or \"n\" in pw_change:\n",
    "            print(\"다음에 로그인에 변경해주세요\")\n",
    "        else:\n",
    "            print(\"로그인\")\n",
    "          \n",
    "            while True:\n",
    "                try:\n",
    "                    pw_change2 = int(input(\"변경하실 비밀번호를 입력하세요 : \"))\n",
    "                    break\n",
    "                except ValueError:\n",
    "                    print(\"다시 입력하세요\")\n",
    "\n",
    "            print(\" 비밀번호가 변경 되었습니다. \")\n",
    "            PW = pw_change2\n",
    "            print(\" 정보가 변경 되었습니다. 다시 로그인하세요 \")\n",
    "\n",
    "while True:\n",
    "    try:\n",
    "        id_input = input(\" ID를 입력하세요 : \")\n",
    "        pw_input = int(input(\" PW를 입력하세요 : \"))\n",
    "        break\n",
    "        \n",
    "    except ValueError:\n",
    "        print(\"다시 입력하세요\")\n",
    "\n",
    "if id_input == ID:\n",
    "    if pw_input == PW:\n",
    "        print(\" 로그인되었습니다 \")\n",
    "    elif pw_input != PW:\n",
    "        print(PW)\n",
    "        print(\" 로그인이 실패되었습니다 다시 로그인 해주세요 \")\n",
    "\n",
    "            \n",
    "\n",
    "        "
   ]
  },
  {
   "cell_type": "markdown",
   "metadata": {},
   "source": [
    "# "
   ]
  }
 ],
 "metadata": {
  "kernelspec": {
   "display_name": "Python 3",
   "language": "python",
   "name": "python3"
  },
  "language_info": {
   "codemirror_mode": {
    "name": "ipython",
    "version": 3
   },
   "file_extension": ".py",
   "mimetype": "text/x-python",
   "name": "python",
   "nbconvert_exporter": "python",
   "pygments_lexer": "ipython3",
   "version": "3.8.3"
  }
 },
 "nbformat": 4,
 "nbformat_minor": 4
}
