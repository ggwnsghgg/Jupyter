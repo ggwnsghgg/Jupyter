{
 "cells": [
  {
   "cell_type": "code",
   "execution_count": 6,
   "metadata": {},
   "outputs": [
    {
     "name": "stdout",
     "output_type": "stream",
     "text": [
      "오늘 점심은 교대곱창에서 먹고 후식은 파리바케트에서 먹는다\n"
     ]
    }
   ],
   "source": [
    "### 금일 식사 메뉴 및 가게 정하기 ###\n",
    "\n",
    "# 한식 : 충무식당, 단풍애김밥, 서관면옥, 교대곱창, \n",
    "#        전주콩나물국밥집, 신촌설렁탕, 북창동 순두부, 깐부점심뷔페, 왕산골명가,\n",
    "#        송황칼국수, 국대떡볶이, 한솥도시락, 허수아비 돈까스, 장꼬방묵은김치찌개\n",
    "#        금화왕동까스, 봉산옥\n",
    "\n",
    "# 일식 : 스시환, 스시36.5\n",
    "\n",
    "# 태국음식 : 레몬그라스 타이\n",
    "\n",
    "# 중식 : 매화\n",
    "\n",
    "# 양식 : 노브랜드 버거\n",
    "\n",
    "import random\n",
    "\n",
    "## 식사 종류 ##\n",
    "k_food = [\"충무식당\", \"단풍애김밥\", \"서관면옥\", \"교대곱창\", \"전주콩나물국밥집\",\"신촌설렁탕\",\n",
    "          \"북창동순두부\", \"깐부점심뷔페\", \"왕산골명가\", \"송황칼국수\", \"국대떡볶이\", \"한솥S도시락\", \n",
    "          \"허수아비 돈까스\", \"장꼬방묵은김치찌개\",\"금화왕돈까스\", \"봉산옥\",\"강찬구순대\"]\n",
    "j_food = [\"스시환\", \"스시36.5\"]\n",
    "a_food = [\"노브랜드 버거\"]\n",
    "t_food = [\"레몬그라스 타이\"]\n",
    "c_food = [\"매화\"]\n",
    "tt = ['라크레모사','루엘드 파리','파리바케트','스타벅스']\n",
    "\n",
    "\n",
    "\n",
    "\n",
    "## 메인 음식 랜덤 ##\n",
    "matrix = [[k_food],[j_food],[t_food],[c_food],[a_food]]\n",
    "flat = [x for sublist1 in matrix\n",
    "           for sublist2 in sublist1\n",
    "             for x in sublist2]\n",
    "flat2 = (random.choice(flat))\n",
    "\n",
    "\n",
    "\n",
    "## 식사 구분 ##\n",
    "eat = ['먹']\n",
    "eat2 = ['먹지않']\n",
    "matrix2 =[[eat],[eat2]]\n",
    "eat3 = [x for sublist1 in matrix2 for sublist2 in sublist1 for x in sublist2]\n",
    "# print(eat3)\n",
    "eat4 = (random.choice(eat3))\n",
    "eat5 = (random.choice(eat3))\n",
    "\n",
    "\n",
    "## 후식 종류 ##\n",
    "tt2 = (random.choice(tt))\n",
    "\n",
    "\n",
    "## 랜덤 print 구문 ##\n",
    "print(\"오늘 점심은 {0}에서 {1}고 후식은 {2}에서 {3}는다\".format(flat2,eat4,tt2,eat5))\n"
   ]
  },
  {
   "cell_type": "code",
   "execution_count": null,
   "metadata": {},
   "outputs": [],
   "source": []
  }
 ],
 "metadata": {
  "kernelspec": {
   "display_name": "Python 3",
   "language": "python",
   "name": "python3"
  }
 },
 "nbformat": 4,
 "nbformat_minor": 4
}
