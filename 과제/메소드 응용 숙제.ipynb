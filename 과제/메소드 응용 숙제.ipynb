{
 "cells": [
  {
   "cell_type": "markdown",
   "metadata": {},
   "source": [
    "##############################"
   ]
  },
  {
   "cell_type": "markdown",
   "metadata": {},
   "source": [
    "### 메소드 응용 예제"
   ]
  },
  {
   "cell_type": "markdown",
   "metadata": {},
   "source": [
    "##############################"
   ]
  },
  {
   "cell_type": "markdown",
   "metadata": {},
   "source": [
    "### remove 메소드"
   ]
  },
  {
   "cell_type": "markdown",
   "metadata": {},
   "source": [
    "     "
   ]
  },
  {
   "cell_type": "code",
   "execution_count": 37,
   "metadata": {},
   "outputs": [
    {
     "name": "stdout",
     "output_type": "stream",
     "text": [
      "['철수', '영희', '민영', '준호', '명수']\n",
      "None\n",
      "['철수', '영희', '민영', '명수']\n"
     ]
    }
   ],
   "source": [
    "# 학원에 철수,영희,민영,준호,명수 5명의 학생이 있다\n",
    "# 리스트에 5명을 다담고  준호를 제적 후 에 출력해라\n",
    "\n",
    "\n",
    "play_data = ['철수','영희','민영','준호','명수']\n",
    "print(play_data)\n",
    "print(play_data.remove('준호'))\n",
    "print(play_data)"
   ]
  },
  {
   "cell_type": "markdown",
   "metadata": {},
   "source": [
    "   "
   ]
  },
  {
   "cell_type": "markdown",
   "metadata": {},
   "source": [
    "### pop 메소드"
   ]
  },
  {
   "cell_type": "markdown",
   "metadata": {},
   "source": [
    " "
   ]
  },
  {
   "cell_type": "code",
   "execution_count": 36,
   "metadata": {},
   "outputs": [
    {
     "name": "stdout",
     "output_type": "stream",
     "text": [
      "[1, 2, 3, 4, 5, 6]\n",
      "2\n",
      "[1, 3, 4, 5, 6]\n",
      "4\n",
      "[1, 3, 5, 6]\n",
      "6\n",
      "[1, 3, 5]\n",
      "3\n",
      "[1, 5]\n",
      "5\n",
      "[1]\n"
     ]
    }
   ],
   "source": [
    "# 1~6의 숫자를 리스트에 담고\n",
    "# pop 메소드를 이용하여 짝수 부터 제거 후 1 만 남기고 모두 삭제해라\n",
    "\n",
    "num = [1,2,3,4,5,6]\n",
    "print(num)\n",
    "print(num.pop(1))\n",
    "print(num)\n",
    "print(num.pop(2))\n",
    "print(num)\n",
    "print(num.pop(3))\n",
    "print(num)\n",
    "print(num.pop(1))\n",
    "print(num)\n",
    "print(num.pop(1))\n",
    "print(num)"
   ]
  },
  {
   "cell_type": "markdown",
   "metadata": {},
   "source": []
  },
  {
   "cell_type": "markdown",
   "metadata": {},
   "source": [
    "### index 메소드"
   ]
  },
  {
   "cell_type": "markdown",
   "metadata": {},
   "source": [
    " "
   ]
  },
  {
   "cell_type": "code",
   "execution_count": 35,
   "metadata": {},
   "outputs": [
    {
     "name": "stdout",
     "output_type": "stream",
     "text": [
      "[1, 2, 3, 4, 5, 6, 7]\n",
      "5\n"
     ]
    }
   ],
   "source": [
    "# 1~ 7 리스트에서 각 숫자의 특정 숫자의 위치값을 출력해라\n",
    "\n",
    "pp = [1,2,3,4,5,6,7]\n",
    "print(pp)\n",
    "print(pp.index(6))\n"
   ]
  },
  {
   "cell_type": "markdown",
   "metadata": {},
   "source": [
    " "
   ]
  },
  {
   "cell_type": "markdown",
   "metadata": {},
   "source": [
    "### count 메소드"
   ]
  },
  {
   "cell_type": "markdown",
   "metadata": {},
   "source": [
    " "
   ]
  },
  {
   "cell_type": "code",
   "execution_count": 40,
   "metadata": {},
   "outputs": [
    {
     "name": "stdout",
     "output_type": "stream",
     "text": [
      "3\n"
     ]
    }
   ],
   "source": [
    "# 리스트의 숫자 7 갯수를 출력해라\n",
    "\n",
    "test_list = [211,457,7,414,541,624,7,8,9,17,71,7,116,4667]\n",
    "print(test_list.count(7))"
   ]
  },
  {
   "cell_type": "markdown",
   "metadata": {},
   "source": [
    " "
   ]
  },
  {
   "cell_type": "markdown",
   "metadata": {},
   "source": [
    "### sort 메소드 , reverse 메소드"
   ]
  },
  {
   "cell_type": "code",
   "execution_count": 56,
   "metadata": {},
   "outputs": [
    {
     "name": "stdout",
     "output_type": "stream",
     "text": [
      "[1, 2, 3, 4, 5, 6, 7, 8, 9]\n",
      "[9, 8, 7, 6, 5, 4, 3, 2, 1]\n"
     ]
    }
   ],
   "source": [
    "# 숫자를 순방향 과 역방향으로 정렬해라s\n",
    "\n",
    "num_list = [5,6,4,7,8,9,3,2,1]\n",
    "num_list.sort()\n",
    "print(num_list)\n",
    "\n",
    "num_list.reverse()\n",
    "print(num_list)"
   ]
  },
  {
   "cell_type": "markdown",
   "metadata": {},
   "source": [
    " "
   ]
  },
  {
   "cell_type": "code",
   "execution_count": null,
   "metadata": {},
   "outputs": [],
   "source": []
  }
 ],
 "metadata": {
  "kernelspec": {
   "display_name": "Python 3",
   "language": "python",
   "name": "python3"
  },
  "language_info": {
   "codemirror_mode": {
    "name": "ipython",
    "version": 3
   },
   "file_extension": ".py",
   "mimetype": "text/x-python",
   "name": "python",
   "nbconvert_exporter": "python",
   "pygments_lexer": "ipython3",
   "version": "3.8.3"
  }
 },
 "nbformat": 4,
 "nbformat_minor": 4
}
